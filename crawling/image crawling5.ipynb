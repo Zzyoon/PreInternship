{
 "cells": [
  {
   "cell_type": "code",
   "execution_count": null,
   "id": "d0d122a9",
   "metadata": {},
   "outputs": [],
   "source": [
    "# 이게 어떻게 돌아가나싶지만 돌아는 감! 근데 역시나 이미지 저장은 안 됨"
   ]
  },
  {
   "cell_type": "code",
   "execution_count": 1,
   "id": "94f7ea8b",
   "metadata": {},
   "outputs": [],
   "source": [
    "from selenium import webdriver\n",
    "from selenium.webdriver.common.keys import Keys\n",
    "import time\n",
    "import urllib.request\n",
    "import os"
   ]
  },
  {
   "cell_type": "code",
   "execution_count": 2,
   "id": "7c296f6b",
   "metadata": {},
   "outputs": [],
   "source": [
    "def search_selenium(search_name, search_path, search_limit):\n",
    "    search_url = \"https://www.google.co.kr/imghp?hl=ko\"\n",
    "#     driver = webdriver.Edge(executable_path='msedgedriver.exe')\n",
    "    driver = webdriver.Chrome('C:\\ProgramData\\Anaconda3\\Lib\\site-packages\\selenium\\webdriver\\chrome\\chromedriver.exe')\n",
    "    driver.get(search_url)\n",
    "    elem = driver.find_element_by_name(\"q\")\n",
    "    elem.send_keys(search_name)\n",
    "    elem.send_keys(Keys.RETURN)\n",
    "\n",
    "    SCROLL_PAUSE_TIME = 1\n",
    "\n",
    "    # Get scroll height\n",
    "    last_height = driver.execute_script(\"return document.body.scrollHeight\")\n",
    "\n",
    "    while True:\n",
    "        driver.execute_script(\"window.scrollTo(0, document.body.scrollHeight);\")\n",
    "\n",
    "        time.sleep(SCROLL_PAUSE_TIME)\n",
    "\n",
    "        new_height = driver.execute_script(\"return document.body.scrollHeight\")\n",
    "        if new_height == last_height:\n",
    "            try:\n",
    "                driver.find_element_by_css_selector(\".mye4qd\").click()\n",
    "            except:\n",
    "                break\n",
    "        last_height = new_height\n",
    "\n",
    "    # Get each image URL and download it\n",
    "    count = 1\n",
    "    images = driver.find_elements_by_css_selector(\".rg_i.Q4LuWd\")\n",
    "\n",
    "    for image in images:\n",
    "        try:\n",
    "            if search_limit == count:\n",
    "                break\n",
    "            image.click()\n",
    "            time.sleep(3)\n",
    "            img_url = driver.find_element_by_class_name(\"Sva75c\").get_attribute(\"src\")\n",
    "\n",
    "            urllib.request.urlretrieve(img_url, \"Image/\" + str(count) + \".jpg\")\n",
    "            count = count + 1\n",
    "        except:\n",
    "            pass\n",
    "\n",
    "    # Close driver\n",
    "    driver.close()"
   ]
  },
  {
   "cell_type": "code",
   "execution_count": 3,
   "id": "c30cdb03",
   "metadata": {},
   "outputs": [
    {
     "name": "stdout",
     "output_type": "stream",
     "text": [
      "검색하고 싶은 키워드 : 장고\n",
      "원하는 이미지 수집 개수 : 5\n"
     ]
    }
   ],
   "source": [
    "if __name__ == \"__main__\":\n",
    "    search_name = input(\"검색하고 싶은 키워드 : \")\n",
    "    search_limit = int(input(\"원하는 이미지 수집 개수 : \"))\n",
    "    search_path = \"Your Path\"\n",
    "    search_selenium(search_name, search_path, search_limit)"
   ]
  },
  {
   "cell_type": "code",
   "execution_count": null,
   "id": "2c13eb3e",
   "metadata": {},
   "outputs": [],
   "source": []
  }
 ],
 "metadata": {
  "kernelspec": {
   "display_name": "Python 3 (ipykernel)",
   "language": "python",
   "name": "python3"
  },
  "language_info": {
   "codemirror_mode": {
    "name": "ipython",
    "version": 3
   },
   "file_extension": ".py",
   "mimetype": "text/x-python",
   "name": "python",
   "nbconvert_exporter": "python",
   "pygments_lexer": "ipython3",
   "version": "3.7.11"
  }
 },
 "nbformat": 4,
 "nbformat_minor": 5
}
