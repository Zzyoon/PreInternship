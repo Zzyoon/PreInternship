{
 "cells": [
  {
   "cell_type": "code",
   "execution_count": 14,
   "id": "40c68d63",
   "metadata": {},
   "outputs": [],
   "source": [
    "# 미리 폴더 생성해둬야함 & 코드 실행은 되나 다운이 안 됨"
   ]
  },
  {
   "cell_type": "code",
   "execution_count": 15,
   "id": "9a12107b",
   "metadata": {},
   "outputs": [],
   "source": [
    "from selenium import webdriver\n",
    "from bs4 import BeautifulSoup as soups"
   ]
  },
  {
   "cell_type": "code",
   "execution_count": 16,
   "id": "30967aeb",
   "metadata": {},
   "outputs": [],
   "source": [
    "def search_selenium(search_name, search_path, search_limit) :\n",
    "    search_url = \"https://www.google.com/search?q=\" + str(search_name) + \"&hl=ko&tbm=isch\"\n",
    "    \n",
    "    browser = webdriver.Chrome('C:\\ProgramData\\Anaconda3\\Lib\\site-packages\\selenium\\webdriver\\chrome\\chromedriver.exe')\n",
    "    browser.get(search_url)\n",
    "    \n",
    "    image_count = len(browser.find_elements_by_tag_name(\"img\"))\n",
    "    \n",
    "    print(\"로드된 이미지 개수 : \", image_count)\n",
    "\n",
    "    browser.implicitly_wait(2)\n",
    "    browser.set_window_size(500, 500)\n",
    "\n",
    "#    이미지 다운로드 받을 폴더\n",
    "    for i in range( search_limit ) :\n",
    "        image = browser.find_elements_by_tag_name(\"img\")[i]\n",
    "        image.screenshot('‪C:/Users/kcc/Ghibli profile picture_img_download2' + str(i) + \".png\")\n",
    "\n",
    "    browser.close()"
   ]
  },
  {
   "cell_type": "code",
   "execution_count": 17,
   "id": "41b15f2f",
   "metadata": {},
   "outputs": [
    {
     "name": "stdout",
     "output_type": "stream",
     "text": [
      "검색하고 싶은 키워드 : 국자\n",
      "원하는 이미지 수집 개수 : 5\n"
     ]
    }
   ],
   "source": [
    "if __name__ == \"__main__\" :\n",
    "\n",
    "    search_name = input(\"검색하고 싶은 키워드 : \")\n",
    "    search_limit = int(input(\"원하는 이미지 수집 개수 : \"))\n",
    "    search_path = \"Your Path\"\n",
    "    # search_maybe(search_name, search_limit, search_path)\n",
    "#     search_selenium(search_name, search_path, search_limit)"
   ]
  },
  {
   "cell_type": "code",
   "execution_count": null,
   "id": "507a39f0",
   "metadata": {},
   "outputs": [],
   "source": []
  }
 ],
 "metadata": {
  "kernelspec": {
   "display_name": "Python 3 (ipykernel)",
   "language": "python",
   "name": "python3"
  },
  "language_info": {
   "codemirror_mode": {
    "name": "ipython",
    "version": 3
   },
   "file_extension": ".py",
   "mimetype": "text/x-python",
   "name": "python",
   "nbconvert_exporter": "python",
   "pygments_lexer": "ipython3",
   "version": "3.7.11"
  }
 },
 "nbformat": 4,
 "nbformat_minor": 5
}
