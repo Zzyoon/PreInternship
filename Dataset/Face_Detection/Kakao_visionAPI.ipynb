{
  "nbformat": 4,
  "nbformat_minor": 0,
  "metadata": {
    "colab": {
      "name": "Kakao_visionAPI.ipynb",
      "provenance": [],
      "collapsed_sections": []
    },
    "kernelspec": {
      "name": "python3",
      "display_name": "Python 3"
    },
    "language_info": {
      "name": "python"
    }
  },
  "cells": [
    {
      "cell_type": "code",
      "source": [
        "import sys\n",
        "import argparse\n",
        "import requests\n",
        "import os\n",
        "from PIL import Image, ImageFilter"
      ],
      "metadata": {
        "id": "8uTuv0n6TDYW"
      },
      "execution_count": null,
      "outputs": []
    },
    {
      "cell_type": "markdown",
      "source": [
        "google drive 연결"
      ],
      "metadata": {
        "id": "JbV8nTjzJuPl"
      }
    },
    {
      "cell_type": "code",
      "source": [
        "from google.colab import drive\n",
        "drive.mount('/content/drive')"
      ],
      "metadata": {
        "colab": {
          "base_uri": "https://localhost:8080/"
        },
        "id": "zOVWUwlXRCEG",
        "outputId": "d1da0d46-dd40-4458-a48e-855816b58399"
      },
      "execution_count": null,
      "outputs": [
        {
          "output_type": "stream",
          "name": "stdout",
          "text": [
            "Mounted at /content/drive\n"
          ]
        }
      ]
    },
    {
      "cell_type": "markdown",
      "source": [
        "Kakao 계정 연결 "
      ],
      "metadata": {
        "id": "upGkrjpBUTPH"
      }
    },
    {
      "cell_type": "code",
      "execution_count": null,
      "metadata": {
        "id": "7xQ2v6uYFxWW"
      },
      "outputs": [],
      "source": [
        "API_URL = 'https://dapi.kakao.com/v2/vision/face/detect'\n",
        "MYAPP_KEY = '89912886a29c936fb657d80f648ac117' #본인 키 발급받은 거 넣기"
      ]
    },
    {
      "cell_type": "markdown",
      "source": [
        "face detection"
      ],
      "metadata": {
        "id": "IBjSjpdkUZu_"
      }
    },
    {
      "cell_type": "code",
      "source": [
        "def detect_face(filename):\n",
        "  headers = {'Authorization': 'KakaoAK {}'.format(MYAPP_KEY)}\n",
        "\n",
        "  try:\n",
        "      files = { 'image' : open(filename, 'rb')}\n",
        "      resp = requests.post(API_URL, headers=headers, files=files)\n",
        "      resp.raise_for_status()\n",
        "      return resp.json()\n",
        "  except Exception as e:\n",
        "      print(str(e))\n",
        "      sys.exit(0)"
      ],
      "metadata": {
        "id": "hArQQs5dUZ7p"
      },
      "execution_count": null,
      "outputs": []
    },
    {
      "cell_type": "markdown",
      "source": [
        "face crop"
      ],
      "metadata": {
        "id": "tycieWiuJo6v"
      }
    },
    {
      "cell_type": "code",
      "source": [
        "def crop(filename, detection_result):\n",
        "    image = Image.open(filename)\n",
        "    IMAGE_SIZE = 100,100\n",
        "\n",
        "    for face in detection_result['result']['faces']:\n",
        "        x = int(face['x']*image.width)\n",
        "        w = int(face['w']*image.width)\n",
        "        y = int(face['y']*image.height)\n",
        "        h = int(face['h']*image.height)\n",
        "        box = image.crop((x,y,x+w, y+h))\n",
        "        # box = box.resize((20,20), Image.NEAREST).resize((w,h), Image.NEAREST)\n",
        "        # image.paste(box, (x,y,x+w, y+h))\n",
        "        image = box.resize(IMAGE_SIZE,Image.ANTIALIAS)\n",
        "    return image"
      ],
      "metadata": {
        "id": "bAibpudIJnE0"
      },
      "execution_count": null,
      "outputs": []
    },
    {
      "cell_type": "markdown",
      "source": [
        "이미지 파일에 적용"
      ],
      "metadata": {
        "id": "T90J6jxGJ1Fb"
      }
    },
    {
      "cell_type": "code",
      "source": [
        "# 결과 저장 폴더 생성\n",
        "out_dir =\"crop_profile\"\n",
        "if out_dir not in os.listdir():\n",
        "    os.mkdir(out_dir)\n",
        "\n",
        "if __name__ == \"__main__\":\n",
        "    img_dir = '/content/drive/MyDrive/ghibliimagedataset/ghibli_profileimage'\n",
        "    imagefile = os.listdir(os.path.join(img_dir))\n",
        "    os.listdir(img_dir)\n",
        "\n",
        "    for i in imagefile:\n",
        "      try:\n",
        "        detection_result = detect_face(img_dir +'/'+ i)\n",
        "        image = crop(img_dir +'/'+ i, detection_result)  \n",
        "        image.save(out_dir + \"/\" + i)  \n",
        "        print('save%s' %i)\n",
        "      except:\n",
        "        pass"
      ],
      "metadata": {
        "id": "vri4_GLHSYeU"
      },
      "execution_count": null,
      "outputs": []
    }
  ]
}