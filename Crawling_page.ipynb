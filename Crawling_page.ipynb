{
 "cells": [
  {
   "cell_type": "code",
   "execution_count": 3,
   "id": "88000c55",
   "metadata": {},
   "outputs": [],
   "source": [
    "import threading\n",
    "from selenium import webdriver\n",
    "from selenium.webdriver.common.keys import Keys\n",
    "import time\n",
    "import urllib.request"
   ]
  },
  {
   "cell_type": "code",
   "execution_count": 4,
   "id": "5b67712c",
   "metadata": {},
   "outputs": [],
   "source": [
    "# 드라이버 = 구글 드라이버 위치\n",
    "driver = webdriver.Chrome('C:\\ProgramData\\Anaconda3\\Lib\\site-packages\\selenium\\webdriver\\chrome\\chromedriver.exe')\n",
    "# 드라이버로 열 웹페이지(이미지 검색한 페이지)\n",
    "driver.get(\"https://www.google.com/search?q=studio+ghibli+sen&tbm=isch&chips=q:studio+ghibli+sen,online_chips:chihiro+ogino:89KQiMtoMkM%3D&hl=ko&sa=X&ved=2ahUKEwi8hryGntH1AhUxJaYKHQe8AqUQ4lYoAnoECAEQHw&biw=758&bih=627\")"
   ]
  },
  {
   "cell_type": "code",
   "execution_count": 5,
   "id": "b212921b",
   "metadata": {},
   "outputs": [
    {
     "name": "stdout",
     "output_type": "stream",
     "text": [
      "('chihiro_27.jpg', <http.client.HTTPMessage object at 0x0000016B2603BA88>)\n",
      "('chihiro_28.jpg', <http.client.HTTPMessage object at 0x0000016B2603BD88>)\n",
      "('chihiro_29.jpg', <http.client.HTTPMessage object at 0x0000016B26044288>)\n",
      "('chihiro_30.jpg', <http.client.HTTPMessage object at 0x0000016B26044348>)\n",
      "('chihiro_31.jpg', <http.client.HTTPMessage object at 0x0000016B26050408>)\n",
      "('chihiro_32.jpg', <http.client.HTTPMessage object at 0x0000016B26050308>)\n",
      "('chihiro_33.jpg', <http.client.HTTPMessage object at 0x0000016B26050508>)\n",
      "('chihiro_34.jpg', <http.client.HTTPMessage object at 0x0000016B2603BD08>)\n",
      "('chihiro_35.jpg', <email.message.Message object at 0x0000016B2603B808>)\n",
      "('chihiro_36.jpg', <http.client.HTTPMessage object at 0x0000016B26050508>)\n",
      "('chihiro_37.jpg', <http.client.HTTPMessage object at 0x0000016B26050708>)\n",
      "('chihiro_38.jpg', <http.client.HTTPMessage object at 0x0000016B26050888>)\n",
      "('chihiro_39.jpg', <http.client.HTTPMessage object at 0x0000016B260509C8>)\n",
      "('chihiro_40.jpg', <http.client.HTTPMessage object at 0x0000016B26050208>)\n",
      "('chihiro_41.jpg', <email.message.Message object at 0x0000016B2603B508>)\n",
      "('chihiro_42.jpg', <http.client.HTTPMessage object at 0x0000016B2603B208>)\n",
      "('chihiro_43.jpg', <http.client.HTTPMessage object at 0x0000016B26044148>)\n",
      "('chihiro_44.jpg', <email.message.Message object at 0x0000016B2603BAC8>)\n",
      "('chihiro_45.jpg', <email.message.Message object at 0x0000016B2603B448>)\n",
      "('chihiro_46.jpg', <http.client.HTTPMessage object at 0x0000016B26050208>)\n",
      "('chihiro_47.jpg', <http.client.HTTPMessage object at 0x0000016B26050288>)\n",
      "('chihiro_48.jpg', <http.client.HTTPMessage object at 0x0000016B2603BB08>)\n",
      "('chihiro_49.jpg', <http.client.HTTPMessage object at 0x0000016B2604E188>)\n",
      "('chihiro_50.jpg', <http.client.HTTPMessage object at 0x0000016B2604F108>)\n",
      "('chihiro_51.jpg', <http.client.HTTPMessage object at 0x0000016B260421C8>)\n",
      "('chihiro_52.jpg', <http.client.HTTPMessage object at 0x0000016B2604E348>)\n",
      "('chihiro_53.jpg', <http.client.HTTPMessage object at 0x0000016B260532C8>)\n",
      "('chihiro_54.jpg', <http.client.HTTPMessage object at 0x0000016B26053448>)\n",
      "('chihiro_55.jpg', <http.client.HTTPMessage object at 0x0000016B260544C8>)\n",
      "('chihiro_56.jpg', <http.client.HTTPMessage object at 0x0000016B2603B308>)\n",
      "('chihiro_57.jpg', <http.client.HTTPMessage object at 0x0000016B2603B688>)\n",
      "('chihiro_58.jpg', <http.client.HTTPMessage object at 0x0000016B26054048>)\n",
      "('chihiro_59.jpg', <http.client.HTTPMessage object at 0x0000016B2604E088>)\n",
      "('chihiro_60.jpg', <http.client.HTTPMessage object at 0x0000016B2604F1C8>)\n",
      "('chihiro_61.jpg', <http.client.HTTPMessage object at 0x0000016B26054448>)\n",
      "('chihiro_62.jpg', <http.client.HTTPMessage object at 0x0000016B26042348>)\n",
      "('chihiro_63.jpg', <http.client.HTTPMessage object at 0x0000016B26042408>)\n",
      "('chihiro_64.jpg', <http.client.HTTPMessage object at 0x0000016B2603BC88>)\n",
      "('chihiro_65.jpg', <http.client.HTTPMessage object at 0x0000016B2603B8C8>)\n",
      "('chihiro_66.jpg', <http.client.HTTPMessage object at 0x0000016B26048048>)\n",
      "('chihiro_67.jpg', <http.client.HTTPMessage object at 0x0000016B26044108>)\n",
      "('chihiro_68.jpg', <http.client.HTTPMessage object at 0x0000016B2604F1C8>)\n"
     ]
    }
   ],
   "source": [
    "#이미지\n",
    "images = driver.find_elements_by_css_selector(\".rg_i.Q4LuWd\")\n",
    "#이미지 개수 변수\n",
    "count = 27\n",
    "\n",
    "# 반복문~ 작은 이미지를 클릭해 원본 이미지 나오고 링크가서 다운로드\n",
    "for image in images:\n",
    "#     try-except 안 되는 거 있으면 그냥 넘기고 다음 이미지로 가라\n",
    "    try:\n",
    "        #이미지 클릭\n",
    "        image.click()\n",
    "        # 이미지 로딩..\n",
    "        time.sleep(3)\n",
    "        # 1. 원본 이미지 태그(n3VNCb)를 활용해 이미지url(src)로 들어가기\n",
    "#         imgUrl = driver.find_element_by_css_selector(\".n3VNCb\").get_attribute('src')\n",
    "        # 2. 원본 이미지 XPath(n3VNCb)를 활용해 이미지url(src)로 들어가기\n",
    "        imgUrl = driver.find_element_by_xpath(\"/html/body/div[2]/c-wiz/div[3]/div[2]/div[3]/div/div/div[3]/div[2]/c-wiz/div/div[1]/div[1]/div[2]/div/a/img\").get_attribute('src')\n",
    "        # url에서 이미지 다운로드\n",
    "        print(urllib.request.urlretrieve(imgUrl,\"chihiro_\" + str(count) + \".jpg\"))\n",
    "        count = count + 1\n",
    "    except:\n",
    "        pass\n",
    "    \n",
    "driver.close()"
   ]
  },
  {
   "cell_type": "code",
   "execution_count": null,
   "id": "8ad4d50a",
   "metadata": {},
   "outputs": [],
   "source": []
  },
  {
   "cell_type": "code",
   "execution_count": 3,
   "id": "c0daf2ee",
   "metadata": {},
   "outputs": [
    {
     "name": "stdout",
     "output_type": "stream",
     "text": [
      "('page_test.jpg', <http.client.HTTPMessage object at 0x0000026A6D0713C8>)\n"
     ]
    }
   ],
   "source": [
    "# <<<<<<<<<<TEST>>>>>>>>>>\n",
    "#이미지\n",
    "images = driver.find_elements_by_css_selector(\".rg_i.Q4LuWd\")[1].click()\n",
    "# 이미지 로딩..\n",
    "time.sleep(3)\n",
    "# 원본 이미지 태그(n3VNCb)를 활용해 이미지url(src)로 들어가기\n",
    "imgUrl = driver.find_element_by_xpath(\"/html/body/div[2]/c-wiz/div[3]/div[2]/div[3]/div/div/div[3]/div[2]/c-wiz/div/div[1]/div[1]/div[2]/div/a/img\").get_attribute('src')\n",
    "# url에서 이미지 다운로드\n",
    "print(urllib.request.urlretrieve(imgUrl,\"page_test.jpg\"))"
   ]
  },
  {
   "cell_type": "code",
   "execution_count": null,
   "id": "4466d3a8",
   "metadata": {},
   "outputs": [],
   "source": []
  },
  {
   "cell_type": "code",
   "execution_count": null,
   "id": "6deebac5",
   "metadata": {},
   "outputs": [],
   "source": [
    "# 스크롤 내리기\n",
    "SCROLL_PAUSE_TIME = 1.0\n",
    "\n",
    "# Get scroll height ; 브라우저 높이\n",
    "last_height = driver.execute_script(\"return document.body.scrollHeight\")\n",
    "\n",
    "while True:\n",
    "    # Scroll down to bottom ; 브라우저 끝까지 스크롤을 내리겠다\n",
    "    driver.execute_script(\"window.scrollTo(0, document.body.scrollHeight);\")\n",
    "\n",
    "    # Wait to load page\n",
    "    time.sleep(SCROLL_PAUSE_TIME)\n",
    "\n",
    "    # Calculate new scroll height and compare with last scroll height ; 이번 높이 = 브라우저 높이 ; 끝까지 내려옴\n",
    "    new_height = driver.execute_script(\"return document.body.scrollHeight\")\n",
    "    if new_height == last_height:\n",
    "#         끝까지 내려왔으면 '결과더보기(html-class='mye4qd')' 누르기 \".mye4qd\" or \".r0zKGf\"\n",
    "        try:\n",
    "            driver.find_element_by_css_selector(\".r0zKGf\").click()\n",
    "        except:\n",
    "            break\n",
    "    last_height = new_height\n",
    "    \n",
    "# import datetime\n",
    "\n",
    "# def doScrollDown(whileSeconds):\n",
    "#     start = datetime.datetime.now()\n",
    "#     end = start + datetime.timedelta(seconds=whileSeconds)\n",
    "#     while True:\n",
    "#         driver.execute_script('window.scrollTo(0, document.body.scrollHeight);')\n",
    "#         time.sleep(1)\n",
    "#         if new_height == last_height:\n",
    "# #         끝까지 내려왔으면 '결과더보기(html-class='mye4qd')' 누르기 \".mye4qd\" or \".r0zKGf\"\n",
    "#             try:\n",
    "#                 driver.find_element_by_css_selector(\".mye4qd\" or \".r0zKGf\").click()\n",
    "#             except:\n",
    "#                 break\n",
    "#         if datetime.datetime.now() > end:\n",
    "#             break\n",
    "        \n",
    "# doScrollDown(60)"
   ]
  },
  {
   "cell_type": "code",
   "execution_count": null,
   "id": "f667b34d",
   "metadata": {},
   "outputs": [],
   "source": []
  }
 ],
 "metadata": {
  "kernelspec": {
   "display_name": "Python 3 (ipykernel)",
   "language": "python",
   "name": "python3"
  },
  "language_info": {
   "codemirror_mode": {
    "name": "ipython",
    "version": 3
   },
   "file_extension": ".py",
   "mimetype": "text/x-python",
   "name": "python",
   "nbconvert_exporter": "python",
   "pygments_lexer": "ipython3",
   "version": "3.7.11"
  }
 },
 "nbformat": 4,
 "nbformat_minor": 5
}
