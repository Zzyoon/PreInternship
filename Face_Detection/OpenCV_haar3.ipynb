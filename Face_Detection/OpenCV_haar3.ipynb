{
 "cells": [
  {
   "cell_type": "code",
   "execution_count": 12,
   "id": "92044321",
   "metadata": {},
   "outputs": [
    {
     "data": {
      "image/jpeg": "[encoded data removed]",
      "text/plain": [
       "<IPython.core.display.Image object>"
      ]
     },
     "execution_count": 12,
     "metadata": {},
     "output_type": "execute_result"
    }
   ],
   "source": [
    "from IPython.display import Image\n",
    "Image(\"C:/Users/kcc/4.jpg\")"
   ]
  },
  {
   "cell_type": "code",
   "execution_count": 13,
   "id": "383493c1",
   "metadata": {},
   "outputs": [
    {
     "name": "stdout",
     "output_type": "stream",
     "text": [
      "[[  1   1   1 ...  12  12  13]\n",
      " [  1   1   1 ...  12  12  13]\n",
      " [  1   1   1 ...  12  12  13]\n",
      " ...\n",
      " [212 212 212 ... 185 182 183]\n",
      " [212 212 212 ... 193 217 190]\n",
      " [209 214 211 ... 207 189 187]]\n",
      "no face\n"
     ]
    }
   ],
   "source": [
    "import cv2\n",
    "import sys\n",
    "# 이미지 파일\n",
    "image_file = \"C:/Users/kcc/4.jpg\"\n",
    "# 캐스케이드 파일의 경로 지정\n",
    "cascade_file = cv2.data.haarcascades + 'haarcascade_frontalface_default.xml'\n",
    "# 이미지 읽고\n",
    "image = cv2.imread(image_file)\n",
    "# 그레이스케일로 변환\n",
    "image_gs = cv2.cvtColor(image, cv2.COLOR_BGR2GRAY)\n",
    "# 얼굴 인식 특징 파일 읽고\n",
    "cascade = cv2.CascadeClassifier(cascade_file)\n",
    "print(image_gs)\n",
    "# 얼굴 인식 부분\n",
    "face_list = cascade.detectMultiScale(image_gs,\n",
    "    scaleFactor=1.1,\n",
    "    minNeighbors=1,\n",
    "    minSize=(150,150))\n",
    "if len(face_list) > 0:\n",
    "    # 인식한 부분 표시\n",
    "    print(face_list)\n",
    "    color = (0, 0, 255)\n",
    "    for face in face_list:\n",
    "        x,y,w,h = face\n",
    "        cv2.rectangle(image, (x,y), (x+w, y+h), color, thickness=8)\n",
    "    # 파일저장\n",
    "    cv2.imwrite(\"test-output4.PNG\", image)\n",
    "else:\n",
    "    print(\"no face\")"
   ]
  },
  {
   "cell_type": "code",
   "execution_count": null,
   "id": "5c8b0488",
   "metadata": {},
   "outputs": [],
   "source": []
  }
 ],
 "metadata": {
  "kernelspec": {
   "display_name": "Python 3 (ipykernel)",
   "language": "python",
   "name": "python3"
  },
  "language_info": {
   "codemirror_mode": {
    "name": "ipython",
    "version": 3
   },
   "file_extension": ".py",
   "mimetype": "text/x-python",
   "name": "python",
   "nbconvert_exporter": "python",
   "pygments_lexer": "ipython3",
   "version": "3.7.11"
  }
 },
 "nbformat": 4,
 "nbformat_minor": 5
}
