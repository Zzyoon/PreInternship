{
 "cells": [
  {
   "cell_type": "code",
   "execution_count": null,
   "id": "587d1502",
   "metadata": {},
   "outputs": [],
   "source": [
    "# 코드는 다 돌아가는데 이미지 저장이 안 됨"
   ]
  },
  {
   "cell_type": "code",
   "execution_count": null,
   "id": "b9bfc077",
   "metadata": {},
   "outputs": [],
   "source": [
    "# https://velog.io/@ishikawakanata/Selenium%EC%9D%84-%EC%9D%B4%EC%9A%A9%ED%95%B4-%EA%B5%AC%EA%B8%80-%EC%9D%B4%EB%AF%B8%EC%A7%80-%EC%9B%90%EB%B3%B8%EC%9C%BC%EB%A1%9C-%ED%81%AC%EB%A1%A4%EB%A7%81%ED%95%98%EA%B8%B0"
   ]
  },
  {
   "cell_type": "code",
   "execution_count": 17,
   "id": "12033d6c",
   "metadata": {},
   "outputs": [],
   "source": [
    "# 필요한 라이브러리 불러오기\n",
    "from selenium import webdriver\n",
    "from urllib.request import urlopen\n",
    "from selenium.webdriver.common.keys import Keys\n",
    "import time\n",
    "import urllib.request\n",
    "import os"
   ]
  },
  {
   "cell_type": "code",
   "execution_count": 18,
   "id": "e4d90496",
   "metadata": {},
   "outputs": [],
   "source": [
    "# 1. 이미지 저장할 폴더 생성\n",
    "if not os.path.isdir(\"GHIBLI2/\"):\n",
    "    os.makedirs(\"GHIBLI2/\")"
   ]
  },
  {
   "cell_type": "code",
   "execution_count": 19,
   "id": "13ea515f",
   "metadata": {},
   "outputs": [],
   "source": [
    "# 2. 크롬 웹드라이버 연결\n",
    "driver = webdriver.Chrome()\n",
    "driver.get(\"https://www.google.co.kr/imghp?hl=ko&ogbl\")"
   ]
  },
  {
   "cell_type": "code",
   "execution_count": 20,
   "id": "229f73c1",
   "metadata": {},
   "outputs": [],
   "source": [
    "# 3. 검색어 입력하기\n",
    "search = \"Ghibli profile picture\"\n",
    "elem = driver.find_element_by_name(\"q\")\n",
    "elem.send_keys(search)\n",
    "elem.send_keys(Keys.RETURN)"
   ]
  },
  {
   "cell_type": "code",
   "execution_count": 21,
   "id": "fd29e6b8",
   "metadata": {},
   "outputs": [],
   "source": [
    "# 4. 스크롤 끝까지 내리기\n",
    "SCROLL_PAUSE_TIME = 1\n",
    "\n",
    "last_height = driver.execute_script(\"return document.body.scrollHeight\")\n",
    "\n",
    "while True:\n",
    "    driver.execute_script(\"window.scrollTo(0, document.body.scrollHeight);\")\n",
    "    time.sleep(SCROLL_PAUSE_TIME)\n",
    "    new_height = driver.execute_script(\"return document.body.scrollHeight\")\n",
    "\n",
    "    if new_height == last_height:\n",
    "        try:\n",
    "            driver.find_element_by_css_selector(\".mye4qd\").click()\n",
    "        except:\n",
    "            break\n",
    "    last_height = new_height"
   ]
  },
  {
   "cell_type": "code",
   "execution_count": 22,
   "id": "c107590d",
   "metadata": {},
   "outputs": [],
   "source": [
    "# 5. 이미지 찾아서 원본 파일로 저장하기\n",
    "images = driver.find_elements_by_css_selector(\".rg_i.Q4LuWd\")\n",
    "count = 1\n",
    "\n",
    "for image in images:\n",
    "    try:\n",
    "        image.click()\n",
    "        time.sleep(2)\n",
    "#         imgUrl = driver.find_element_by_xpath(\"//*[@id=\"Sva75c\"]/div/div/div[3]/div[2]/c-wiz/div/div[1]/div[1]/div[2]/div/a/img\").get_attribute('src')\n",
    "        imgUrl = driver.find_element_by_xpath('Sva75c').get_attribute('src')\n",
    "        urllib.request.urlretrieve(imgUrl, \"GHIBLI2/\" + search + \"_\" + str(count) + \".jpg\")\n",
    "        print(\"Image saved: GHIBLI2_{}.jpg\".format(count))\n",
    "        count += 1\n",
    "    except:\n",
    "        pass\n",
    "\n",
    "driver.close()"
   ]
  },
  {
   "cell_type": "code",
   "execution_count": null,
   "id": "08ea2f3f",
   "metadata": {},
   "outputs": [],
   "source": []
  }
 ],
 "metadata": {
  "kernelspec": {
   "display_name": "Python 3 (ipykernel)",
   "language": "python",
   "name": "python3"
  },
  "language_info": {
   "codemirror_mode": {
    "name": "ipython",
    "version": 3
   },
   "file_extension": ".py",
   "mimetype": "text/x-python",
   "name": "python",
   "nbconvert_exporter": "python",
   "pygments_lexer": "ipython3",
   "version": "3.7.11"
  }
 },
 "nbformat": 4,
 "nbformat_minor": 5
}
